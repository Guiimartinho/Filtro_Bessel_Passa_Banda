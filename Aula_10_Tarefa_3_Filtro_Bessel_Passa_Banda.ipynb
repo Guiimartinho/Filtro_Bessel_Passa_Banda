{
  "nbformat": 4,
  "nbformat_minor": 0,
  "metadata": {
    "colab": {
      "name": "Aula_10-Tarefa_3_Filtro_Bessel_Passa-Banda.ipynb",
      "provenance": [],
      "collapsed_sections": [],
      "authorship_tag": "ABX9TyOnFBDmKIAIbYPd4tenbL8q",
      "include_colab_link": true
    },
    "kernelspec": {
      "name": "python3",
      "display_name": "Python 3"
    }
  },
  "cells": [
    {
      "cell_type": "markdown",
      "metadata": {
        "id": "view-in-github",
        "colab_type": "text"
      },
      "source": [
        "<a href=\"https://colab.research.google.com/github/Guiimartinho/Filtro_Bessel_Passa_Banda/blob/main/Aula_10_Tarefa_3_Filtro_Bessel_Passa_Banda.ipynb\" target=\"_parent\"><img src=\"https://colab.research.google.com/assets/colab-badge.svg\" alt=\"Open In Colab\"/></a>"
      ]
    },
    {
      "cell_type": "code",
      "metadata": {
        "id": "Sc4OtGo-iv2l"
      },
      "source": [
        "from scipy import signal\n",
        "import matplotlib.pyplot as plt\n",
        "import matplotlib.ticker\n",
        "import numpy as np"
      ],
      "execution_count": null,
      "outputs": []
    },
    {
      "cell_type": "code",
      "metadata": {
        "id": "YXtaMDVfi1I_"
      },
      "source": [
        "b, a = signal.iirfilter(10, [2*np.pi*8000, 2*np.pi*12000], rs=50,\n",
        "                        btype='band', analog=True, ftype='cheby2')"
      ],
      "execution_count": null,
      "outputs": []
    },
    {
      "cell_type": "code",
      "metadata": {
        "colab": {
          "base_uri": "https://localhost:8080/",
          "height": 299
        },
        "id": "G1CqAsxojAf6",
        "outputId": "5ad9037b-0499-471a-dc50-e1422323c6a4"
      },
      "source": [
        "w, h = signal.freqs(b, a, 20000)\n",
        "fig = plt.figure()\n",
        "ax = fig.add_subplot(1, 1, 1)\n",
        "ax.semilogx(w / (2*np.pi), 20 * np.log10(np.maximum(abs(h), 1e-5)))\n",
        "ax.set_title('Filtro Digital Bessel Pass-Band')\n",
        "ax.set_xlabel('Frequency [Hz]')\n",
        "ax.set_ylabel('Amplitude [dB]')\n",
        "ax.axis((5000, 20000, -100, 10))\n",
        "ax.grid(which='both', axis='both')\n",
        "plt.show()"
      ],
      "execution_count": null,
      "outputs": [
        {
          "output_type": "display_data",
          "data": {
            "image/png": "[encoded data removed]",
            "text/plain": [
              "<Figure size 432x288 with 1 Axes>"
            ]
          },
          "metadata": {
            "tags": [],
            "needs_background": "light"
          }
        }
      ]
    },
    {
      "cell_type": "code",
      "metadata": {
        "id": "CDuoRyuejFHW",
        "colab": {
          "base_uri": "https://localhost:8080/"
        },
        "outputId": "df0ac0b6-cb31-41c4-c039-f9f3878e68c6"
      },
      "source": [
        "a"
      ],
      "execution_count": null,
      "outputs": [
        {
          "output_type": "execute_result",
          "data": {
            "text/plain": [
              "array([1.00000000e+00, 1.54927275e+05, 4.99008271e+10, 5.89570614e+15,\n",
              "       1.03292526e+21, 9.69696155e+25, 1.18892342e+31, 9.05228254e+35,\n",
              "       8.50175190e+40, 5.28707207e+45, 3.96309330e+50, 2.00376229e+55,\n",
              "       1.22115380e+60, 4.92777659e+64, 2.45288825e+69, 7.58211771e+73,\n",
              "       3.06093931e+78, 6.62144258e+82, 2.12400484e+87, 2.49923222e+91,\n",
              "       6.11377846e+95])"
            ]
          },
          "metadata": {
            "tags": []
          },
          "execution_count": 98
        }
      ]
    },
    {
      "cell_type": "code",
      "metadata": {
        "id": "b6e1yJ-QjFmy",
        "colab": {
          "base_uri": "https://localhost:8080/"
        },
        "outputId": "cdb6447b-f9f4-4afa-a80f-2f72552b193a"
      },
      "source": [
        "b"
      ],
      "execution_count": null,
      "outputs": [
        {
          "output_type": "execute_result",
          "data": {
            "text/plain": [
              "array([3.16227766e-03, 0.00000000e+00, 2.19721424e+08, 0.00000000e+00,\n",
              "       5.57675683e+18, 0.00000000e+00, 7.31932503e+28, 0.00000000e+00,\n",
              "       5.64379171e+38, 0.00000000e+00, 2.69689026e+48, 0.00000000e+00,\n",
              "       8.10649123e+57, 0.00000000e+00, 1.51006246e+67, 0.00000000e+00,\n",
              "       1.65259916e+76, 0.00000000e+00, 9.35233732e+84, 0.00000000e+00,\n",
              "       1.93334650e+93])"
            ]
          },
          "metadata": {
            "tags": []
          },
          "execution_count": 99
        }
      ]
    }
  ]
}